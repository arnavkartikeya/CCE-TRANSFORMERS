{
 "cells": [
  {
   "cell_type": "code",
   "execution_count": 3,
   "id": "92479800-b024-43a2-b5b0-31334f31679a",
   "metadata": {},
   "outputs": [
    {
     "name": "stdout",
     "output_type": "stream",
     "text": [
      "exp/snli_1.0_dev-6-sentence-5\n"
     ]
    }
   ],
   "source": [
    "import models"
   ]
  },
  {
   "cell_type": "code",
   "execution_count": 15,
   "id": "867ee159-ee22-4ae8-b1f8-f3de9cc5870b",
   "metadata": {},
   "outputs": [],
   "source": [
    "import os\n",
    "import torch\n",
    "import torch.optim as optim\n",
    "import torch.nn as nn\n",
    "import spacy\n",
    "import en_core_web_sm\n",
    "nlp = en_core_web_sm.load()\n",
    "from torch.utils.data import DataLoader\n",
    "from data.snli import SNLI, pad_collate\n",
    "from contextlib import nullcontext\n",
    "from tqdm import tqdm\n",
    "import numpy as np\n",
    "from collections import defaultdict\n",
    "import settings\n",
    "import torch.nn.utils.prune as prune\n",
    "import train_utils\n",
    "import models"
   ]
  },
  {
   "cell_type": "code",
   "execution_count": 18,
   "id": "5d59a407-19e9-425a-8cb6-b20cb3a65e5e",
   "metadata": {},
   "outputs": [
    {
     "name": "stdout",
     "output_type": "stream",
     "text": [
      "1000\n"
     ]
    },
    {
     "name": "stderr",
     "output_type": "stream",
     "text": [
      "train: 0it [00:00, ?it/s]/opt/conda/lib/python3.10/site-packages/spacy/pipeline/lemmatizer.py:211: UserWarning: [W108] The rule-based lemmatizer did not find POS annotation for one or more tokens. Check that your pipeline includes components that assign token.pos, typically 'tagger'+'attribute_ruler' or 'morphologizer'.\n",
      "  warnings.warn(Warnings.W108)\n",
      "train: 1000it [00:02, 374.12it/s]\n"
     ]
    },
    {
     "name": "stdout",
     "output_type": "stream",
     "text": [
      "1000\n"
     ]
    },
    {
     "name": "stderr",
     "output_type": "stream",
     "text": [
      "dev: 9000it [00:23, 388.80it/s]\n"
     ]
    }
   ],
   "source": [
    "max_data = 1000\n",
    "train = SNLI(\"../data/snli_1.0/\", \"train\", max_data=max_data)\n",
    "val = SNLI(\n",
    "    \"../data/snli_1.0/\", \"dev\", max_data=max_data, vocab=(train.stoi, train.itos)\n",
    ")\n",
    "vocab_size=len(train.stoi)"
   ]
  },
  {
   "cell_type": "code",
   "execution_count": 19,
   "id": "f6a8af7f-4a5a-4344-a1db-b10a1b9b92c4",
   "metadata": {},
   "outputs": [],
   "source": [
    "model = train_utils.build_model(\n",
    "    30000,\n",
    "    'bowman',\n",
    "    embedding_dim=300,\n",
    "    hidden_dim=512,\n",
    ")"
   ]
  },
  {
   "cell_type": "code",
   "execution_count": 23,
   "id": "f450be4f-2db4-48d6-b6a8-34b997e18684",
   "metadata": {},
   "outputs": [
    {
     "data": {
      "text/plain": [
       "Sequential(\n",
       "  (0): Linear(in_features=2048, out_features=1024, bias=True)\n",
       "  (1): ReLU()\n",
       "  (2): Dropout(p=0.1, inplace=False)\n",
       "  (3): Linear(in_features=1024, out_features=3, bias=True)\n",
       ")"
      ]
     },
     "execution_count": 23,
     "metadata": {},
     "output_type": "execute_result"
    }
   ],
   "source": [
    "model.mlp"
   ]
  },
  {
   "cell_type": "code",
   "execution_count": 22,
   "id": "d3c7bc5a-6cf4-4070-9aa9-d717e85b1795",
   "metadata": {},
   "outputs": [
    {
     "data": {
      "text/plain": [
       "Sequential(\n",
       "  (0): Linear(in_features=2048, out_features=1024, bias=True)\n",
       "  (1): ReLU()\n",
       "  (2): Dropout(p=0.1, inplace=False)\n",
       ")"
      ]
     },
     "execution_count": 22,
     "metadata": {},
     "output_type": "execute_result"
    }
   ],
   "source": [
    "model.mlp[:-1]"
   ]
  },
  {
   "cell_type": "code",
   "execution_count": null,
   "id": "88c2ada4-a9ac-4551-b58c-3515ce06f39b",
   "metadata": {},
   "outputs": [],
   "source": [
    "! pip install transformers"
   ]
  },
  {
   "cell_type": "code",
   "execution_count": 25,
   "id": "e67328a4-db09-49c8-83aa-c1dd5168fa07",
   "metadata": {},
   "outputs": [],
   "source": [
    "from transformers import AutoModel, AutoTokenizer "
   ]
  },
  {
   "cell_type": "code",
   "execution_count": null,
   "id": "fab53a43-0bfc-48c1-9e5f-4c1344171b37",
   "metadata": {},
   "outputs": [],
   "source": [
    "tokenizer = AutoTokenizer.from_pretrained('bert-base-uncased')\n",
    "model = AutoModel.from_pretrained('bert-base-uncased')"
   ]
  },
  {
   "cell_type": "code",
   "execution_count": 30,
   "id": "2cb3ff0e-2828-4f92-ac75-3e56e3192f5a",
   "metadata": {},
   "outputs": [
    {
     "data": {
      "text/plain": [
       "768"
      ]
     },
     "execution_count": 30,
     "metadata": {},
     "output_type": "execute_result"
    }
   ],
   "source": [
    "model.config.hidden_size"
   ]
  },
  {
   "cell_type": "code",
   "execution_count": 37,
   "id": "6c9b8cf3-54ab-41e6-a3aa-a7a08024a37b",
   "metadata": {},
   "outputs": [],
   "source": [
    "text = 'hello world' \n",
    "tokens = tokenizer(text, padding=True, truncation=True, return_tensors=\"pt\")\n",
    "\n",
    "with torch.no_grad():\n",
    "# Get model output\n",
    "    output = model(**tokens)"
   ]
  },
  {
   "cell_type": "code",
   "execution_count": 40,
   "id": "e27537f8-850c-4a38-8d20-5ea040ddb998",
   "metadata": {},
   "outputs": [
    {
     "data": {
      "text/plain": [
       "torch.Size([1, 4, 768])"
      ]
     },
     "execution_count": 40,
     "metadata": {},
     "output_type": "execute_result"
    }
   ],
   "source": [
    "output.last_hidden_state.shape"
   ]
  },
  {
   "cell_type": "code",
   "execution_count": null,
   "id": "62c2b9cc-e560-40d2-8229-e73c038a31a2",
   "metadata": {},
   "outputs": [],
   "source": []
  }
 ],
 "metadata": {
  "kernelspec": {
   "display_name": "Python 3 (ipykernel)",
   "language": "python",
   "name": "python3"
  },
  "language_info": {
   "codemirror_mode": {
    "name": "ipython",
    "version": 3
   },
   "file_extension": ".py",
   "mimetype": "text/x-python",
   "name": "python",
   "nbconvert_exporter": "python",
   "pygments_lexer": "ipython3",
   "version": "3.10.5"
  }
 },
 "nbformat": 4,
 "nbformat_minor": 5
}
